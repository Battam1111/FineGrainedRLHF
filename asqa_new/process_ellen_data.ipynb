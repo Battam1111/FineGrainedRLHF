{
 "cells": [
  {
   "cell_type": "code",
   "execution_count": 2,
   "metadata": {},
   "outputs": [],
   "source": [
    "import json\n",
    "import os, glob"
   ]
  },
  {
   "cell_type": "code",
   "execution_count": 3,
   "metadata": {},
   "outputs": [],
   "source": [
    "def process_annotation(original_path):\n",
    "    with open(original_path, 'r') as f:\n",
    "        lines = f.read().splitlines()\n",
    "    \n",
    "    dataset = []\n",
    "    \n",
    "    for line in lines:\n",
    "        this_item = json.loads(line)\n",
    "        \n",
    "        answers = json.loads(this_item['answer'])\n",
    "        \n",
    "        this_item['answer'] = answers\n",
    "        \n",
    "        passages = json.loads(this_item['passages'])\n",
    "        this_item['passages'] = passages\n",
    "        \n",
    "        dataset.append(this_item)\n",
    "        \n",
    "    return dataset"
   ]
  },
  {
   "cell_type": "code",
   "execution_count": 4,
   "metadata": {},
   "outputs": [],
   "source": [
    "with open(\"processed_dev_oracle.json\", \"w\") as f:\n",
    "    json.dump(process_annotation(\"dev_oracle.json\"), \n",
    "              f, indent=4)"
   ]
  },
  {
   "cell_type": "code",
   "execution_count": 5,
   "metadata": {},
   "outputs": [],
   "source": [
    "with open(\"processed_train_oracle.json\", \"w\") as f:\n",
    "    json.dump(process_annotation(\"train_oracle.json\"), \n",
    "              f, indent=4)"
   ]
  },
  {
   "cell_type": "code",
   "execution_count": 6,
   "metadata": {},
   "outputs": [],
   "source": [
    "with open(\"processed_test_oracle.json\", \"w\") as f:\n",
    "    json.dump(process_annotation(\"test_oracle.json\"), \n",
    "              f, indent=4)"
   ]
  },
  {
   "cell_type": "code",
   "execution_count": 7,
   "metadata": {},
   "outputs": [],
   "source": [
    "def work_with_old_version(new_dict, old_annotations_path):\n",
    "    old_annotations = json.load(open(old_annotations_path))\n",
    "    \n",
    "    renovated_new_dict = []\n",
    "    \n",
    "    for data, old_data in zip(new_dict, old_annotations):\n",
    "        data['pred_error_reward_model_input'] = old_data['pred_error_reward_model_input']\n",
    "        \n",
    "        renovated_new_dict.append(data)\n",
    "    \n",
    "    return renovated_new_dict"
   ]
  },
  {
   "cell_type": "code",
   "execution_count": 8,
   "metadata": {},
   "outputs": [],
   "source": [
    "with open(\"processed_dev_oracle.json\", \"w\") as f:\n",
    "    json.dump(work_with_old_version(process_annotation(\"dev_oracle.json\"), \n",
    "                                    \"../asqa_old/processed_dev_oracle.json\"), \n",
    "              f, indent=4)\n",
    "    \n",
    "with open(\"processed_train_oracle.json\", \"w\") as f:\n",
    "    json.dump(work_with_old_version(process_annotation(\"train_oracle.json\"), \n",
    "                                    \"../asqa_old/processed_train_oracle.json\"), \n",
    "              f, indent=4)"
   ]
  },
  {
   "cell_type": "code",
   "execution_count": 9,
   "metadata": {},
   "outputs": [
    {
     "data": {
      "text/plain": [
       "948"
      ]
     },
     "execution_count": 9,
     "metadata": {},
     "output_type": "execute_result"
    }
   ],
   "source": [
    "len(process_annotation(\"dev_oracle.json\"))"
   ]
  },
  {
   "cell_type": "code",
   "execution_count": null,
   "metadata": {},
   "outputs": [],
   "source": []
  }
 ],
 "metadata": {
  "kernelspec": {
   "display_name": "pt113",
   "language": "python",
   "name": "python3"
  },
  "language_info": {
   "codemirror_mode": {
    "name": "ipython",
    "version": 3
   },
   "file_extension": ".py",
   "mimetype": "text/x-python",
   "name": "python",
   "nbconvert_exporter": "python",
   "pygments_lexer": "ipython3",
   "version": "3.10.8"
  },
  "orig_nbformat": 4
 },
 "nbformat": 4,
 "nbformat_minor": 2
}
